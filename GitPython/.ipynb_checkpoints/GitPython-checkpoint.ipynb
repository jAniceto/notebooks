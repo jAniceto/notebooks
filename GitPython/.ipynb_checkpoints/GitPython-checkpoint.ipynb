{
 "cells": [
  {
   "cell_type": "markdown",
   "metadata": {},
   "source": [
    "# Get file creation data (commit date) with GitPython"
   ]
  },
  {
   "cell_type": "markdown",
   "metadata": {},
   "source": [
    "### Imports:"
   ]
  },
  {
   "cell_type": "code",
   "execution_count": 1,
   "metadata": {},
   "outputs": [],
   "source": [
    "import git\n",
    "from datetime import datetime"
   ]
  },
  {
   "cell_type": "markdown",
   "metadata": {},
   "source": [
    "### Configuration variables:"
   ]
  },
  {
   "cell_type": "code",
   "execution_count": 2,
   "metadata": {},
   "outputs": [],
   "source": [
    "REPO_DIR = 'C:/Users/USER/Dropbox/Projectos/programming-notes'"
   ]
  },
  {
   "cell_type": "code",
   "execution_count": 3,
   "metadata": {},
   "outputs": [],
   "source": [
    "EXAMPLE_FILE = 'javascript/filter-search.md'"
   ]
  },
  {
   "cell_type": "markdown",
   "metadata": {},
   "source": [
    "### Get info:"
   ]
  },
  {
   "cell_type": "code",
   "execution_count": 4,
   "metadata": {},
   "outputs": [],
   "source": [
    "g = git.Git(REPO_DIR)"
   ]
  },
  {
   "cell_type": "code",
   "execution_count": 5,
   "metadata": {},
   "outputs": [
    {
     "name": "stdout",
     "output_type": "stream",
     "text": [
      "commit 4e3365adf590fd707fac0daeead74129c22901d6\n",
      "Author: José Aniceto <jAniceto@users.noreply.github.com>\n",
      "Date:   Tue Aug 28 11:30:13 2018 +0100\n",
      "\n",
      "    Update filter-search.md\n",
      "\n",
      "commit 0d25f63db7751de080ee8612ab30d5da13dc60f4\n",
      "Author: José Aniceto <jAniceto@users.noreply.github.com>\n",
      "Date:   Tue Aug 28 11:27:43 2018 +0100\n",
      "\n",
      "    Create filter-search.md\n"
     ]
    }
   ],
   "source": [
    "loginfo = g.log('--', EXAMPLE_FILE)\n",
    "print(loginfo)"
   ]
  },
  {
   "cell_type": "markdown",
   "metadata": {},
   "source": [
    "Now we parse the outputed log string."
   ]
  },
  {
   "cell_type": "code",
   "execution_count": 6,
   "metadata": {},
   "outputs": [],
   "source": [
    "commits = loginfo.split('commit')"
   ]
  },
  {
   "cell_type": "code",
   "execution_count": 7,
   "metadata": {},
   "outputs": [
    {
     "name": "stdout",
     "output_type": "stream",
     "text": [
      " 0d25f63db7751de080ee8612ab30d5da13dc60f4\n",
      "Author: José Aniceto <jAniceto@users.noreply.github.com>\n",
      "Date:   Tue Aug 28 11:27:43 2018 +0100\n",
      "\n",
      "    Create filter-search.md\n"
     ]
    }
   ],
   "source": [
    "created_commit = commits[-1]\n",
    "print(created_commit)"
   ]
  },
  {
   "cell_type": "code",
   "execution_count": 8,
   "metadata": {},
   "outputs": [
    {
     "name": "stdout",
     "output_type": "stream",
     "text": [
      "Date:   Tue Aug 28 11:27:43 2018 +0100\n"
     ]
    }
   ],
   "source": [
    "for line in created_commit.split('\\n'):\n",
    "    if 'Date' in line:\n",
    "        date_line = line\n",
    "        break\n",
    "print(date_line)"
   ]
  },
  {
   "cell_type": "code",
   "execution_count": 9,
   "metadata": {},
   "outputs": [
    {
     "name": "stdout",
     "output_type": "stream",
     "text": [
      "Tue Aug 28 11:27:43 2018 +0100\n"
     ]
    }
   ],
   "source": [
    "date_str = date_line.split('Date:')[-1].strip()\n",
    "print(date_str)"
   ]
  },
  {
   "cell_type": "markdown",
   "metadata": {},
   "source": [
    "Now we parse time string using the datetime module."
   ]
  },
  {
   "cell_type": "code",
   "execution_count": 10,
   "metadata": {},
   "outputs": [
    {
     "name": "stdout",
     "output_type": "stream",
     "text": [
      "2018-08-28 11:27:43+01:00\n"
     ]
    }
   ],
   "source": [
    "datetime_object = datetime.strptime(date_str, '%a %b %d %H:%M:%S %Y %z')\n",
    "print(datetime_object)"
   ]
  },
  {
   "cell_type": "markdown",
   "metadata": {},
   "source": [
    "And output it to  our desired string format."
   ]
  },
  {
   "cell_type": "code",
   "execution_count": 11,
   "metadata": {},
   "outputs": [
    {
     "name": "stdout",
     "output_type": "stream",
     "text": [
      "2018-08-28 11:27\n"
     ]
    }
   ],
   "source": [
    "formatted_str = datetime_object.strftime('%Y-%m-%d %H:%M')\n",
    "print(formatted_str)"
   ]
  }
 ],
 "metadata": {
  "kernelspec": {
   "display_name": "Python 3",
   "language": "python",
   "name": "python3"
  },
  "language_info": {
   "codemirror_mode": {
    "name": "ipython",
    "version": 3
   },
   "file_extension": ".py",
   "mimetype": "text/x-python",
   "name": "python",
   "nbconvert_exporter": "python",
   "pygments_lexer": "ipython3",
   "version": "3.7.0"
  }
 },
 "nbformat": 4,
 "nbformat_minor": 2
}
