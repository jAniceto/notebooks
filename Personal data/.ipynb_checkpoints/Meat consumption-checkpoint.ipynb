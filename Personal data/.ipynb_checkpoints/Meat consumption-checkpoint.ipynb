{
 "cells": [
  {
   "cell_type": "markdown",
   "metadata": {},
   "source": [
    "# Meat consumption"
   ]
  },
  {
   "cell_type": "markdown",
   "metadata": {},
   "source": [
    "## Imports and config"
   ]
  },
  {
   "cell_type": "code",
   "execution_count": 1,
   "metadata": {},
   "outputs": [],
   "source": [
    "# Pandas and numpy\n",
    "import pandas as pd\n",
    "import numpy as np\n",
    "\n",
    "# Matplotlib\n",
    "import matplotlib.pyplot as plt\n",
    "%matplotlib inline\n",
    "\n",
    "# Internal ipython tool for setting figure size\n",
    "from IPython.core.pylabtools import figsize"
   ]
  },
  {
   "cell_type": "code",
   "execution_count": 2,
   "metadata": {},
   "outputs": [],
   "source": [
    "# Data\n",
    "CONSUMPTION_DATA = [\n",
    "    {\n",
    "        'mass': 114.0,\n",
    "        'source': 'INE 2017 \\nNational Avg',\n",
    "        'link': 'https://www.ine.pt/xportal/xmain?xpid=INE&xpgid=ine_indicadores&indOcorrCod=0000211&contexto=bd&selTab=tab2'\n",
    "    },\n",
    "    {\n",
    "        'mass': 111,\n",
    "        'source': 'INE 2015 \\nNational Avg',\n",
    "        'link': ''\n",
    "    },\n",
    "    {\n",
    "        'mass': 43.22,\n",
    "        'source': 'FAO 2013 \\nWorld Avg',\n",
    "        'link': 'https://ourworldindata.org/meat-and-seafood-production-consumption'\n",
    "    },\n",
    "]"
   ]
  },
  {
   "cell_type": "markdown",
   "metadata": {},
   "source": [
    "## Personal data"
   ]
  },
  {
   "cell_type": "code",
   "execution_count": 3,
   "metadata": {},
   "outputs": [
    {
     "data": {
      "text/html": [
       "<div>\n",
       "<style scoped>\n",
       "    .dataframe tbody tr th:only-of-type {\n",
       "        vertical-align: middle;\n",
       "    }\n",
       "\n",
       "    .dataframe tbody tr th {\n",
       "        vertical-align: top;\n",
       "    }\n",
       "\n",
       "    .dataframe thead th {\n",
       "        text-align: right;\n",
       "    }\n",
       "</style>\n",
       "<table border=\"1\" class=\"dataframe\">\n",
       "  <thead>\n",
       "    <tr style=\"text-align: right;\">\n",
       "      <th></th>\n",
       "      <th>day</th>\n",
       "      <th>mass</th>\n",
       "      <th>meal</th>\n",
       "      <th>comment</th>\n",
       "    </tr>\n",
       "  </thead>\n",
       "  <tbody>\n",
       "    <tr>\n",
       "      <th>0</th>\n",
       "      <td>1</td>\n",
       "      <td>0</td>\n",
       "      <td>almoço</td>\n",
       "      <td>veg</td>\n",
       "    </tr>\n",
       "    <tr>\n",
       "      <th>1</th>\n",
       "      <td>1</td>\n",
       "      <td>0</td>\n",
       "      <td>jantar</td>\n",
       "      <td>peixe</td>\n",
       "    </tr>\n",
       "    <tr>\n",
       "      <th>2</th>\n",
       "      <td>2</td>\n",
       "      <td>25</td>\n",
       "      <td>almoço</td>\n",
       "      <td>carne</td>\n",
       "    </tr>\n",
       "    <tr>\n",
       "      <th>3</th>\n",
       "      <td>2</td>\n",
       "      <td>40</td>\n",
       "      <td>jantar</td>\n",
       "      <td>carne</td>\n",
       "    </tr>\n",
       "    <tr>\n",
       "      <th>4</th>\n",
       "      <td>3</td>\n",
       "      <td>150</td>\n",
       "      <td>almoço</td>\n",
       "      <td>carne</td>\n",
       "    </tr>\n",
       "  </tbody>\n",
       "</table>\n",
       "</div>"
      ],
      "text/plain": [
       "   day  mass     meal comment\n",
       "0    1     0   almoço     veg\n",
       "1    1     0   jantar   peixe\n",
       "2    2    25   almoço   carne\n",
       "3    2    40   jantar   carne\n",
       "4    3   150   almoço   carne"
      ]
     },
     "execution_count": 3,
     "metadata": {},
     "output_type": "execute_result"
    }
   ],
   "source": [
    "# Load data\n",
    "df = pd.read_csv('meat.csv')\n",
    "df.head()"
   ]
  },
  {
   "cell_type": "code",
   "execution_count": 4,
   "metadata": {},
   "outputs": [
    {
     "data": {
      "text/plain": [
       "day         int64\n",
       "mass        int64\n",
       "meal       object\n",
       "comment    object\n",
       "dtype: object"
      ]
     },
     "execution_count": 4,
     "metadata": {},
     "output_type": "execute_result"
    }
   ],
   "source": [
    "df.dtypes"
   ]
  },
  {
   "cell_type": "code",
   "execution_count": 5,
   "metadata": {},
   "outputs": [
    {
     "name": "stdout",
     "output_type": "stream",
     "text": [
      "53 meals registered. Total of 2605 g.\n"
     ]
    }
   ],
   "source": [
    "# Make calculations\n",
    "meals = len(df.index)\n",
    "mass = df['mass'].sum()\n",
    "print(f'{meals} meals registered. Total of {mass} g.')"
   ]
  },
  {
   "cell_type": "markdown",
   "metadata": {},
   "source": [
    "### Extrapolate to yearly consumption"
   ]
  },
  {
   "cell_type": "code",
   "execution_count": 6,
   "metadata": {},
   "outputs": [
    {
     "name": "stdout",
     "output_type": "stream",
     "text": [
      "Yearly consumption: 35.9 kg/year\n"
     ]
    }
   ],
   "source": [
    "mass_y = mass * (365*2) / meals\n",
    "print(f'Yearly consumption: {mass_y/1000:.1f} kg/year')"
   ]
  },
  {
   "cell_type": "code",
   "execution_count": 33,
   "metadata": {},
   "outputs": [
    {
     "data": {
      "image/png": "[encoded data removed]",
      "text/plain": [
       "<Figure size 576x432 with 1 Axes>"
      ]
     },
     "metadata": {
      "needs_background": "light"
     },
     "output_type": "display_data"
    }
   ],
   "source": [
    "figsize(8, 6)\n",
    "\n",
    "objects = [data['source'] for data in CONSUMPTION_DATA]\n",
    "objects.append('Zé')\n",
    "\n",
    "# consumption = [mass_y/1000, CONSUMPTION_DATA[0]['mass'], CONSUMPTION_DATA[1]['mass'], CONSUMPTION_DATA[2]['mass']]\n",
    "consumption = [data['mass'] for data in CONSUMPTION_DATA]\n",
    "consumption.append(mass_y/1000)\n",
    "\n",
    "y_pos = np.arange(len(objects))\n",
    " \n",
    "meat_graph = plt.bar(y_pos, consumption, align='center', alpha=0.5)\n",
    "meat_graph[-1].set_color('r')\n",
    "plt.xticks(y_pos, objects)\n",
    "plt.ylabel('Consumption (kg/year)')\n",
    "plt.title('Meat consumption comparison')\n",
    " \n",
    "plt.show()"
   ]
  },
  {
   "cell_type": "markdown",
   "metadata": {},
   "source": [
    "## Meal type"
   ]
  },
  {
   "cell_type": "markdown",
   "metadata": {},
   "source": [
    "Meal type frequency. Snacks are small meals that may or may not contain meat (always smaller amounts though)."
   ]
  },
  {
   "cell_type": "code",
   "execution_count": 29,
   "metadata": {},
   "outputs": [],
   "source": [
    "meal_types = df['comment'].value_counts().to_dict()"
   ]
  },
  {
   "cell_type": "code",
   "execution_count": 30,
   "metadata": {},
   "outputs": [
    {
     "data": {
      "image/png": "[encoded data removed]",
      "text/plain": [
       "<Figure size 432x432 with 1 Axes>"
      ]
     },
     "metadata": {},
     "output_type": "display_data"
    }
   ],
   "source": [
    "figsize(6, 6)\n",
    "\n",
    "values = [v for v in meal_types.values()]\n",
    "labels = [k for k in meal_types.keys()]\n",
    "\n",
    "plt.pie(values, labels=labels, autopct='%.1f')\n",
    "\n",
    "plt.show()"
   ]
  },
  {
   "cell_type": "code",
   "execution_count": null,
   "metadata": {},
   "outputs": [],
   "source": []
  }
 ],
 "metadata": {
  "kernelspec": {
   "display_name": "Python 3",
   "language": "python",
   "name": "python3"
  },
  "language_info": {
   "codemirror_mode": {
    "name": "ipython",
    "version": 3
   },
   "file_extension": ".py",
   "mimetype": "text/x-python",
   "name": "python",
   "nbconvert_exporter": "python",
   "pygments_lexer": "ipython3",
   "version": "3.7.0"
  }
 },
 "nbformat": 4,
 "nbformat_minor": 2
}
